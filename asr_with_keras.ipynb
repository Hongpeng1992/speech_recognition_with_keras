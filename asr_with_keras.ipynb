{
 "cells": [
  {
   "cell_type": "code",
   "execution_count": 3,
   "metadata": {
    "collapsed": true
   },
   "outputs": [],
   "source": [
    "import glob\n",
    "import logging\n",
    "import os\n",
    "import numpy as np\n",
    "import re\n",
    "import soundfile\n"
   ]
  },
  {
   "cell_type": "code",
   "execution_count": 2,
   "metadata": {
    "collapsed": true
   },
   "outputs": [],
   "source": [
    "import scipy.signal\n",
    "from scipy.signal import spectrogram"
   ]
  },
  {
   "cell_type": "code",
   "execution_count": 180,
   "metadata": {},
   "outputs": [],
   "source": [
    "import keras.backend as K\n",
    "\n",
    "from keras.layers import (BatchNormalization, Conv1D, Dense,\n",
    "                          Input, GRU, TimeDistributed)\n",
    "from keras.models import Model"
   ]
  },
  {
   "cell_type": "code",
   "execution_count": 182,
   "metadata": {},
   "outputs": [
    {
     "ename": "SyntaxError",
     "evalue": "invalid syntax (<ipython-input-182-d4be51dbfa89>, line 1)",
     "output_type": "error",
     "traceback": [
      "\u001b[0;36m  File \u001b[0;32m\"<ipython-input-182-d4be51dbfa89>\"\u001b[0;36m, line \u001b[0;32m1\u001b[0m\n\u001b[0;31m    KERAS_BACKEND=theano python -c \"from keras import backend\"\u001b[0m\n\u001b[0m                              ^\u001b[0m\n\u001b[0;31mSyntaxError\u001b[0m\u001b[0;31m:\u001b[0m invalid syntax\n"
     ]
    }
   ],
   "source": [
    "K.backend()"
   ]
  },
  {
   "cell_type": "code",
   "execution_count": null,
   "metadata": {
    "collapsed": true
   },
   "outputs": [],
   "source": []
  },
  {
   "cell_type": "code",
   "execution_count": null,
   "metadata": {
    "collapsed": true
   },
   "outputs": [],
   "source": []
  },
  {
   "cell_type": "code",
   "execution_count": 179,
   "metadata": {},
   "outputs": [
    {
     "data": {
      "text/plain": [
       "'tensorflow'"
      ]
     },
     "execution_count": 179,
     "metadata": {},
     "output_type": "execute_result"
    }
   ],
   "source": []
  },
  {
   "cell_type": "code",
   "execution_count": null,
   "metadata": {
    "collapsed": true
   },
   "outputs": [],
   "source": []
  },
  {
   "cell_type": "code",
   "execution_count": null,
   "metadata": {
    "collapsed": true
   },
   "outputs": [],
   "source": []
  },
  {
   "cell_type": "code",
   "execution_count": null,
   "metadata": {
    "collapsed": true
   },
   "outputs": [],
   "source": []
  },
  {
   "cell_type": "code",
   "execution_count": 87,
   "metadata": {
    "collapsed": true
   },
   "outputs": [],
   "source": [
    "# step (int): Step size in milliseconds between windows\n",
    "# window (int): FFT window size in milliseconds\n",
    "# max_freq (int): Only FFT bins corresponding to frequencies between [0, max_freq] are returned\n",
    "\n",
    "def spectrogram_from_file(filename, fft_length, hop_length):\n",
    "    with soundfile.SoundFile(filename) as sound_file:\n",
    "        audio = sound_file.read(dtype='float32')\n",
    "        sample_rate = sound_file.samplerate\n",
    "        print('sample_rate', sample_rate)\n",
    "        window=np.hanning(fft_length)\n",
    "        max_freq=sample_rate / 2\n",
    "        eps=1e-14\n",
    "        time_steps, freqs, sxx = scipy.signal.spectrogram(audio, fs=sample_rate, nperseg=fft_length, window=window, noverlap=hop_length)\n",
    "        #ind = np.where(freqs <= max_freq)[0][-1] + 1 \n",
    "        \n",
    "        z=np.transpose(np.log(sxx[:, :] + eps))\n",
    "        # plt.pcolormesh( freqs,time_steps, np.transpose(z))\n",
    "        # plt.ylabel('Frequency [Hz]')\n",
    "        # plt.xlabel('Time [sec]')\n",
    "        # plt.show()\n",
    "        return z \n",
    "        \n"
   ]
  },
  {
   "cell_type": "code",
   "execution_count": 120,
   "metadata": {},
   "outputs": [
    {
     "name": "stdout",
     "output_type": "stream",
     "text": [
      "sample_rate 16000\n"
     ]
    }
   ],
   "source": [
    "spec = spectrogram_from_file('./wav/652-130726-0025.wav', 320, 160)\n"
   ]
  },
  {
   "cell_type": "code",
   "execution_count": 109,
   "metadata": {},
   "outputs": [
    {
     "data": {
      "text/plain": [
       "(601, 161)"
      ]
     },
     "execution_count": 109,
     "metadata": {},
     "output_type": "execute_result"
    }
   ],
   "source": [
    "spec.shape\n"
   ]
  },
  {
   "cell_type": "code",
   "execution_count": null,
   "metadata": {
    "collapsed": true
   },
   "outputs": [],
   "source": [
    "plt.pcolormesh(bins,freqs, np.transpose(z))\n",
    "plt.xlabel('Frequency [Hz]')\n",
    "plt.ylabel('Time [sec]')\n",
    "plt.show()"
   ]
  },
  {
   "cell_type": "code",
   "execution_count": 7,
   "metadata": {},
   "outputs": [
    {
     "name": "stderr",
     "output_type": "stream",
     "text": [
      "/Users/amolumbarkar/anaconda/envs/keras/lib/python3.5/site-packages/ipykernel_launcher.py:11: DeprecationWarning: Numeric-style type codes are deprecated and will result in an error in the future.\n",
      "  # This is added back by InteractiveShellApp.init_path()\n"
     ]
    },
    {
     "data": {
      "image/png": "[encoded data removed]",
      "text/plain": [
       "<matplotlib.figure.Figure at 0x10bfc2c18>"
      ]
     },
     "metadata": {},
     "output_type": "display_data"
    }
   ],
   "source": [
    "import matplotlib.pyplot as plt\n",
    "import numpy as np\n",
    "import wave\n",
    "import sys\n",
    "\n",
    "\n",
    "spf = wave.open('./wav/652-129742-0000.wav','r')\n",
    "\n",
    "#Extract Raw Audio from Wav File\n",
    "signal = spf.readframes(-1)\n",
    "signal = np.fromstring(signal, 'Int16')\n",
    "fs = spf.getframerate()\n",
    "Time=np.linspace(0, len(signal)/fs, num=len(signal))\n",
    "\n",
    "\n",
    "plt.figure(1)\n",
    "plt.title('Signal Wave...')\n",
    "plt.plot(Time, signal)\n",
    "plt.show()"
   ]
  },
  {
   "cell_type": "code",
   "execution_count": 62,
   "metadata": {},
   "outputs": [],
   "source": [
    "def load_data(file_name):\n",
    "    fileIds_ = []\n",
    "    durations_ = []\n",
    "    labels_ = []\n",
    "\n",
    "    for line in open(file_name):\n",
    "        split = line.strip().split()\n",
    "        fileId = split[0]\n",
    "        fileIds_.append(fileId)\n",
    "        label = ''.join(split[1:]).lower()\n",
    "        labels_.append(label)\n",
    "        audio_file = './wav/' + os.path.join(fileId) + '.wav'\n",
    "        audio = wave.open(audio_file)\n",
    "        duration = float(audio.getnframes()) /audio.getframerate()\n",
    "        audio.close()\n",
    "        durations_.append(duration)\n",
    "    return fileIds_, labels_, durations_\n",
    "    "
   ]
  },
  {
   "cell_type": "code",
   "execution_count": 63,
   "metadata": {},
   "outputs": [],
   "source": [
    "t_fileIds, t_labels, t_durations = load_data('train_data.txt')\n",
    "train_sortedIds = [t_durations.index(x) for x in sorted(t_durations)]\n",
    "train_durations = [x for x in sorted(t_durations)] \n",
    "train_labels = [t_labels[i] for i in train_sortedIds]\n",
    "train_fileIds = [t_fileIds[i] for i in train_sortedIds]\n"
   ]
  },
  {
   "cell_type": "code",
   "execution_count": 71,
   "metadata": {},
   "outputs": [
    {
     "data": {
      "text/plain": [
       "(57, 57)"
      ]
     },
     "execution_count": 71,
     "metadata": {},
     "output_type": "execute_result"
    }
   ],
   "source": [
    "len(train_labels), len(train_fileIds)"
   ]
  },
  {
   "cell_type": "code",
   "execution_count": 72,
   "metadata": {
    "collapsed": true
   },
   "outputs": [],
   "source": [
    "val_fileIds, val_labels, val_durations = load_data('test_data.txt')"
   ]
  },
  {
   "cell_type": "code",
   "execution_count": 73,
   "metadata": {},
   "outputs": [
    {
     "data": {
      "text/plain": [
       "(14, 14)"
      ]
     },
     "execution_count": 73,
     "metadata": {},
     "output_type": "execute_result"
    }
   ],
   "source": [
    "len(val_labels), len(val_fileIds)"
   ]
  },
  {
   "cell_type": "code",
   "execution_count": 75,
   "metadata": {},
   "outputs": [],
   "source": [
    "char_map_str = \"\"\"\n",
    "' 1| <SPACE> 2|a 3|b 4|c 5|d 6|e 7|f 8|g 9|h 10|i 11|j 12|k 13|l 14|m 15|n 16|o 17|p 18|q 19|r 20|s 21|t 22|u 23|v 24|w 25|x 26|y 27|z 28\"\"\"\n",
    "char_map = {}\n",
    "index_map = {}\n",
    "for line in char_map_str.strip().split('|'):\n",
    "    ch, index = line.split()\n",
    "    char_map[ch] = int(index)\n",
    "    index_map[int(index)] = ch\n",
    "index_map[2] = ' '"
   ]
  },
  {
   "cell_type": "code",
   "execution_count": 126,
   "metadata": {
    "collapsed": true
   },
   "outputs": [],
   "source": [
    "def text_to_int_sequence(text):\n",
    "    \"\"\" Use a character map and convert text to an integer sequence \"\"\"\n",
    "    int_sequence = []\n",
    "    for c in text:\n",
    "        if c == ' ':\n",
    "            ch = char_map['<SPACE>']\n",
    "        else:\n",
    "            ch = char_map[c]\n",
    "        int_sequence.append(ch)\n",
    "    return int_sequence"
   ]
  },
  {
   "cell_type": "code",
   "execution_count": 129,
   "metadata": {
    "collapsed": true
   },
   "outputs": [],
   "source": [
    "def prepare_batch(files, texts):\n",
    "    features = [spectrogram_from_file(''.join('./wav/'+ a + '.wav') , 320, 160) for a in files]  # returns (timesteps, features\n",
    "    input_lengths = [f.shape[0] for f in features]  \n",
    "    feature_dim = features[0].shape[1]\n",
    "    mb_size = len(features)\n",
    "    timesteps = max(input_lengths)\n",
    "    x = np.zeros((mb_size, timesteps, feature_dim))  # store timesteps and features for each batch \n",
    "    y = []\n",
    "    label_lengths = []\n",
    "    for i in range(mb_size):\n",
    "        feature = features[i]\n",
    "        # feature = normalize()\n",
    "        x[i, :feature.shape[0], : ] = feature  # assigns value for each batch, all timesteps in second and all values in third dim\n",
    "        label = text_to_int_sequence(texts[i])\n",
    "        y.append(label)\n",
    "        label_lengths.append(len(label))\n",
    "    \n",
    "    return {\n",
    "        'x': x,\n",
    "        'y': y,\n",
    "        'texts': texts,\n",
    "        'input_lengths':input_lengths,\n",
    "        'label_lengths': label_lengths\n",
    "    }\n",
    "    "
   ]
  },
  {
   "cell_type": "code",
   "execution_count": 132,
   "metadata": {},
   "outputs": [
    {
     "name": "stdout",
     "output_type": "stream",
     "text": [
      "sample_rate 16000\n",
      "sample_rate 16000\n"
     ]
    }
   ],
   "source": [
    "o = prepare_batch(train_fileIds[:2], train_labels[:2])\n"
   ]
  },
  {
   "cell_type": "code",
   "execution_count": 155,
   "metadata": {},
   "outputs": [
    {
     "name": "stderr",
     "output_type": "stream",
     "text": [
      "/Users/amolumbarkar/anaconda/envs/keras/lib/python3.5/site-packages/ipykernel_launcher.py:17: UserWarning: Update your `Model` call to the Keras 2 API: `Model(inputs=Tensor(\"ac..., outputs=Tensor(\"ti...)`\n"
     ]
    }
   ],
   "source": [
    "#build a GRU model\n",
    "\n",
    "# input dim feature length \n",
    "input_dim = 161\n",
    "recur_layers = 3\n",
    "output_dim = 29\n",
    "\n",
    "acoustic_input = Input(shape=(None, input_dim), name = 'acoustic_input')\n",
    "conv_1d =  Conv1D(activation=\"relu\", kernel_size=11, strides=2, name=\"conv_1d\", padding=\"same\", filters=1024)(acoustic_input) # try same\n",
    "gru_1 = GRU(units=1024, activation='relu', name=\"rnn_1\", return_sequences=True)(conv_1d)\n",
    "gru_2 = GRU(units=1024, activation='relu', name=\"rnn_2\", return_sequences=True)(gru_1)\n",
    "gru_3 = GRU( units=1024, activation='relu', name=\"rnn_3\", return_sequences=True)(gru_2)\n",
    "\n",
    "# no softmax layer \n",
    "network_output = TimeDistributed(Dense(output_dim, name='dense',activation='linear'))(gru_3)\n",
    "\n",
    "model = Model(input=acoustic_input, output=network_output)\n"
   ]
  },
  {
   "cell_type": "code",
   "execution_count": 156,
   "metadata": {},
   "outputs": [
    {
     "data": {
      "text/plain": [
       "TensorShape([Dimension(None), Dimension(None), Dimension(29)])"
      ]
     },
     "execution_count": 156,
     "metadata": {},
     "output_type": "execute_result"
    }
   ],
   "source": []
  },
  {
   "cell_type": "code",
   "execution_count": 171,
   "metadata": {},
   "outputs": [],
   "source": [
    "import sys \n",
    "sys.path.insert(0, 'ctc/python')\n",
    "import ctc\n",
    "import lasagne"
   ]
  },
  {
   "cell_type": "code",
   "execution_count": 175,
   "metadata": {},
   "outputs": [
    {
     "ename": "AttributeError",
     "evalue": "'Tensor' object has no attribute 'dimshuffle'",
     "output_type": "error",
     "traceback": [
      "\u001b[0;31m---------------------------------------------------------------------------\u001b[0m",
      "\u001b[0;31mAttributeError\u001b[0m                            Traceback (most recent call last)",
      "\u001b[0;32m<ipython-input-175-f46e4c909fad>\u001b[0m in \u001b[0;36m<module>\u001b[0;34m()\u001b[0m\n\u001b[1;32m      7\u001b[0m \u001b[0;31m# Turn <minibatch_size, max_length, num_classes> into <max_length, minibatch_size, num_classes>\u001b[0m\u001b[0;34m\u001b[0m\u001b[0;34m\u001b[0m\u001b[0m\n\u001b[1;32m      8\u001b[0m \u001b[0;34m\u001b[0m\u001b[0m\n\u001b[0;32m----> 9\u001b[0;31m \u001b[0mnetwork_output\u001b[0m \u001b[0;34m=\u001b[0m \u001b[0mnetwork_output\u001b[0m\u001b[0;34m.\u001b[0m\u001b[0mdimshuffle\u001b[0m\u001b[0;34m(\u001b[0m\u001b[0;34m(\u001b[0m\u001b[0;36m1\u001b[0m\u001b[0;34m,\u001b[0m \u001b[0;36m0\u001b[0m\u001b[0;34m,\u001b[0m \u001b[0;36m2\u001b[0m\u001b[0;34m)\u001b[0m\u001b[0;34m)\u001b[0m\u001b[0;34m\u001b[0m\u001b[0m\n\u001b[0m\u001b[1;32m     10\u001b[0m \u001b[0;34m\u001b[0m\u001b[0m\n\u001b[1;32m     11\u001b[0m \u001b[0mctc_cost\u001b[0m \u001b[0;34m=\u001b[0m \u001b[0mctc\u001b[0m\u001b[0;34m.\u001b[0m\u001b[0mcpu_ctc_th\u001b[0m\u001b[0;34m(\u001b[0m\u001b[0mnetwork_output\u001b[0m\u001b[0;34m,\u001b[0m \u001b[0moutput_lengths\u001b[0m\u001b[0;34m,\u001b[0m \u001b[0mlabel\u001b[0m\u001b[0;34m,\u001b[0m \u001b[0mlabel_lengths\u001b[0m\u001b[0;34m)\u001b[0m\u001b[0;34m.\u001b[0m\u001b[0mmean\u001b[0m\u001b[0;34m(\u001b[0m\u001b[0;34m)\u001b[0m\u001b[0;34m\u001b[0m\u001b[0m\n",
      "\u001b[0;31mAttributeError\u001b[0m: 'Tensor' object has no attribute 'dimshuffle'"
     ]
    }
   ],
   "source": [
    "acoustic_input = model.inputs[0]\n",
    "network_output = model.outputs[0]\n",
    "output_lengths = K.placeholder(ndim=1, dtype='int32')\n",
    "label = K.placeholder(ndim=1, dtype='int32')\n",
    "label_lengths = K.placeholder(ndim=1, dtype='int32') \n",
    "# swapping batch(0) and steps(1) required by CTC . Keeping output dim as is 29 \n",
    "# Turn <minibatch_size, max_length, num_classes> into <max_length, minibatch_size, num_classes>\n",
    "\n",
    "network_output = network_output.dimshuffle((1, 0, 2))\n",
    "\n",
    "ctc_cost = ctc.cpu_ctc_th(network_output, output_lengths, label, label_lengths).mean()\n",
    "trainable_vars = model.trainable_weights \n",
    "grads = K.gradients(ctc_cost, trainable_vars)\n",
    "grads = lasagne.updates.total_norm_constraint(100)\n",
    "updates = lasagne.updates.nesterov_momentum(grads, trainable_vars, learning_rate, 0.99)"
   ]
  },
  {
   "cell_type": "code",
   "execution_count": null,
   "metadata": {
    "collapsed": true
   },
   "outputs": [],
   "source": []
  },
  {
   "cell_type": "code",
   "execution_count": null,
   "metadata": {
    "collapsed": true
   },
   "outputs": [],
   "source": []
  },
  {
   "cell_type": "code",
   "execution_count": null,
   "metadata": {
    "collapsed": true
   },
   "outputs": [],
   "source": []
  },
  {
   "cell_type": "code",
   "execution_count": null,
   "metadata": {
    "collapsed": true
   },
   "outputs": [],
   "source": [
    "# define model -> pass to function -> create model function \n",
    "# load data -> create batches - > use the model function to train\n",
    "# repeat for validation "
   ]
  },
  {
   "cell_type": "code",
   "execution_count": null,
   "metadata": {
    "collapsed": true
   },
   "outputs": [],
   "source": []
  }
 ],
 "metadata": {
  "kernelspec": {
   "display_name": "Python 3",
   "language": "python",
   "name": "python3"
  },
  "language_info": {
   "codemirror_mode": {
    "name": "ipython",
    "version": 3
   },
   "file_extension": ".py",
   "mimetype": "text/x-python",
   "name": "python",
   "nbconvert_exporter": "python",
   "pygments_lexer": "ipython3",
   "version": "3.5.3"
  }
 },
 "nbformat": 4,
 "nbformat_minor": 2
}
